{
 "cells": [
  {
   "cell_type": "code",
   "execution_count": 1,
   "metadata": {},
   "outputs": [],
   "source": [
    "import sys\n",
    "sys.path.append('../')\n",
    "import matplotlib.pyplot as plt\n",
    "from utils.err import *"
   ]
  },
  {
   "cell_type": "code",
   "execution_count": 2,
   "metadata": {},
   "outputs": [],
   "source": [
    "from dataGeneration.utils import *"
   ]
  },
  {
   "cell_type": "code",
   "execution_count": 3,
   "metadata": {},
   "outputs": [],
   "source": [
    "data = {\n",
    "    'r' : {\n",
    "        'r1': 5,\n",
    "        'r2': 7,\n",
    "    },\n",
    "    'e': {\n",
    "        'e1': 1.5,\n",
    "        'e2': 1.2,\n",
    "        'e3': 0.88,\n",
    "    }\n",
    "}\n",
    "\n",
    "r, e = data['r'], data['e']\n",
    "\n",
    "r1, r2 = r['r1'], r['r2']\n",
    "e1, e2, e3 = e['e1'], e['e2'], e['e3']"
   ]
  },
  {
   "cell_type": "code",
   "execution_count": 4,
   "metadata": {},
   "outputs": [
    {
     "name": "stdout",
     "output_type": "stream",
     "text": [
      "0.6355685131195334\n"
     ]
    }
   ],
   "source": [
    "P = getP(r1, r2)\n",
    "print(P)"
   ]
  },
  {
   "cell_type": "code",
   "execution_count": 5,
   "metadata": {},
   "outputs": [
    {
     "name": "stdout",
     "output_type": "stream",
     "text": [
      "eps_err : [0. 0.]\n"
     ]
    }
   ],
   "source": [
    "ea, eb = getEps(e1, e2, params=P, mode='P')\n",
    "ea2, eb2 = getEps(e1, e2, params=(r1, r2), mode='R')\n",
    "e_err = getErr([ea, eb], [ea2, eb2])\n",
    "print('eps_err : {}'.format(e_err))"
   ]
  },
  {
   "cell_type": "code",
   "execution_count": 6,
   "metadata": {},
   "outputs": [
    {
     "name": "stdout",
     "output_type": "stream",
     "text": [
      "alpha_err : 0.0\n"
     ]
    }
   ],
   "source": [
    "alpha = getAlpha(e, r, baked=False)\n",
    "e_baked = e\n",
    "e_baked.update({\n",
    "    'ea': ea,\n",
    "    'eb': eb,\n",
    "})\n",
    "alpha_baked = getAlpha(e_baked, r, baked=True)\n",
    "\n",
    "# print(alpha, alpha_baked)\n",
    "alpha_err = getErr(alpha, alpha_baked)\n",
    "print('alpha_err : {}'.format(alpha_err))"
   ]
  },
  {
   "cell_type": "code",
   "execution_count": 9,
   "metadata": {},
   "outputs": [
    {
     "name": "stdout",
     "output_type": "stream",
     "text": [
      "29395489.46269338\n"
     ]
    }
   ],
   "source": [
    "area = getArea(r, e, lambd=1)\n",
    "print(area)"
   ]
  },
  {
   "cell_type": "code",
   "execution_count": null,
   "metadata": {},
   "outputs": [],
   "source": []
  }
 ],
 "metadata": {
  "kernelspec": {
   "display_name": "Python 3",
   "language": "python",
   "name": "python3"
  },
  "language_info": {
   "codemirror_mode": {
    "name": "ipython",
    "version": 3
   },
   "file_extension": ".py",
   "mimetype": "text/x-python",
   "name": "python",
   "nbconvert_exporter": "python",
   "pygments_lexer": "ipython3",
   "version": "3.6.9"
  }
 },
 "nbformat": 4,
 "nbformat_minor": 4
}
