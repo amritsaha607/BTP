{
 "cells": [
  {
   "cell_type": "code",
   "execution_count": 1,
   "metadata": {},
   "outputs": [],
   "source": [
    "import sys\n",
    "sys.path.append('../')\n",
    "import matplotlib.pyplot as plt\n",
    "from utils.err import *"
   ]
  },
  {
   "cell_type": "code",
   "execution_count": 2,
   "metadata": {},
   "outputs": [],
   "source": [
    "import pandas as pd\n",
    "import numpy as np\n",
    "from dataGeneration.utils import *\n",
    "from utils.vis import *\n",
    "from tqdm import tqdm\n",
    "import time"
   ]
  },
  {
   "cell_type": "code",
   "execution_count": 3,
   "metadata": {},
   "outputs": [],
   "source": [
    "f_name = '../dataGeneration/csv/Au_interpolated.csv'\n",
    "content = pd.read_csv(f_name)"
   ]
  },
  {
   "cell_type": "code",
   "execution_count": 4,
   "metadata": {},
   "outputs": [
    {
     "name": "stdout",
     "output_type": "stream",
     "text": [
      "5.44200189409969\n"
     ]
    }
   ],
   "source": [
    "# e1**2 * eg = 77\n",
    "e1 = np.sqrt(77/2.6)\n",
    "e3 = 1.78\n",
    "print(e1)"
   ]
  },
  {
   "cell_type": "code",
   "execution_count": 5,
   "metadata": {},
   "outputs": [],
   "source": [
    "r = {\n",
    "    'r1': np.array([2, 8, 15])*1e-9,\n",
    "    'r2': np.array([4, 10, 17])*1e-9,\n",
    "}\n",
    "eps = {\n",
    "    'e1': e1,\n",
    "    'e2': content['er'].values+1j*content['ei'].values,\n",
    "    'e3': e3,\n",
    "}\n",
    "lambd = 1e-9*content['wl'].values"
   ]
  },
  {
   "cell_type": "code",
   "execution_count": null,
   "metadata": {},
   "outputs": [],
   "source": [
    "plotArea(\n",
    "    r, eps, lambd,\n",
    "    figs=['sca', 'abs', 'tot'],label_mode=['r2'],\n",
    ")"
   ]
  },
  {
   "cell_type": "code",
   "execution_count": null,
   "metadata": {},
   "outputs": [],
   "source": [
    "plotArea(\n",
    "    r, eps, lambd,\n",
    "    figs=['sca', 'abs', 'tot'], label_mode=['r2'],\n",
    "    overlay=True\n",
    ")"
   ]
  },
  {
   "cell_type": "code",
   "execution_count": null,
   "metadata": {},
   "outputs": [],
   "source": []
  }
 ],
 "metadata": {
  "kernelspec": {
   "display_name": "Python 3",
   "language": "python",
   "name": "python3"
  },
  "language_info": {
   "codemirror_mode": {
    "name": "ipython",
    "version": 3
   },
   "file_extension": ".py",
   "mimetype": "text/x-python",
   "name": "python",
   "nbconvert_exporter": "python",
   "pygments_lexer": "ipython3",
   "version": "3.6.9"
  }
 },
 "nbformat": 4,
 "nbformat_minor": 4
}
